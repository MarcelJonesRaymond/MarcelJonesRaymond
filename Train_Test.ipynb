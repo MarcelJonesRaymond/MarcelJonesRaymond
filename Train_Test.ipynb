{
 "cells": [
  {
   "cell_type": "code",
   "execution_count": 2,
   "id": "b335ff13",
   "metadata": {},
   "outputs": [],
   "source": [
    "import numpy as np\n",
    "import pandas as pd\n",
    "import matplotlib.pyplot as plt\n",
    "import seaborn as sns\n",
    "sns.set()\n",
    "\n",
    "from sklearn.linear_model import LinearRegression\n",
    "from sklearn.model_selection import train_test_split"
   ]
  },
  {
   "cell_type": "code",
   "execution_count": 6,
   "id": "c3ba463d",
   "metadata": {},
   "outputs": [],
   "source": [
    "a=np.arange(0,101)\n",
    "b=np.arange(200,301)"
   ]
  },
  {
   "cell_type": "code",
   "execution_count": 7,
   "id": "2628d1a4",
   "metadata": {},
   "outputs": [
    {
     "data": {
      "text/plain": [
       "[array([ 50,  54,   8,  76,  35,   1,  25,  90,  57,  61,  55,  51,  59,\n",
       "         69,   6,  74,  43,  26,  63,  58,  12,  89,  99,  49, 100,  24,\n",
       "         67,   9,  48,  78,  38,  53,  97,  10,  88,  29,  32,  30,  41,\n",
       "         80,  85,  56,  82,  62,  19,  71,  36,  46,   5,  34,  44,  45,\n",
       "         39,  75,  15,  27,  81,  87,  65,  66,  60,  68,  13,  77,  79,\n",
       "          2,  14,  42,   3,  84,   4,   7,  64,  72,  11]),\n",
       " array([17, 40, 47, 28, 33, 94, 86, 21, 18, 96, 93, 22, 16, 92, 95,  0, 23,\n",
       "        31, 98, 83, 20, 52, 37, 73, 70, 91])]"
      ]
     },
     "execution_count": 7,
     "metadata": {},
     "output_type": "execute_result"
    }
   ],
   "source": [
    "train_test_split(a)"
   ]
  },
  {
   "cell_type": "code",
   "execution_count": 22,
   "id": "67e84721",
   "metadata": {},
   "outputs": [],
   "source": [
    "x_trian,x_test=train_test_split(a,test_size=0.2,random_state=1)"
   ]
  },
  {
   "cell_type": "code",
   "execution_count": 23,
   "id": "21d2adab",
   "metadata": {},
   "outputs": [
    {
     "data": {
      "text/plain": [
       "(80,)"
      ]
     },
     "execution_count": 23,
     "metadata": {},
     "output_type": "execute_result"
    }
   ],
   "source": [
    "x_trian.shape"
   ]
  },
  {
   "cell_type": "code",
   "execution_count": 24,
   "id": "2a4a58f8",
   "metadata": {},
   "outputs": [
    {
     "data": {
      "text/plain": [
       "(21,)"
      ]
     },
     "execution_count": 24,
     "metadata": {},
     "output_type": "execute_result"
    }
   ],
   "source": [
    "x_test.shape"
   ]
  },
  {
   "cell_type": "code",
   "execution_count": 25,
   "id": "cc2ccaf8",
   "metadata": {},
   "outputs": [],
   "source": [
    "x_trian,x_test,y_train,y_test=train_test_split(a,b,test_size=0.2,random_state=1)"
   ]
  },
  {
   "cell_type": "code",
   "execution_count": 26,
   "id": "56e53ed5",
   "metadata": {},
   "outputs": [
    {
     "data": {
      "text/plain": [
       "(80,)"
      ]
     },
     "execution_count": 26,
     "metadata": {},
     "output_type": "execute_result"
    }
   ],
   "source": [
    "y_train.shape"
   ]
  },
  {
   "cell_type": "code",
   "execution_count": 27,
   "id": "8887ac73",
   "metadata": {},
   "outputs": [
    {
     "data": {
      "text/plain": [
       "(21,)"
      ]
     },
     "execution_count": 27,
     "metadata": {},
     "output_type": "execute_result"
    }
   ],
   "source": [
    "y_test.shape"
   ]
  },
  {
   "cell_type": "code",
   "execution_count": 28,
   "id": "a8bcb9d6",
   "metadata": {},
   "outputs": [
    {
     "data": {
      "text/plain": [
       "array([232, 240, 239, 238, 246, 242, 210, 202, 254, 267, 273, 219, 227,\n",
       "       248, 258, 290, 298, 253, 251, 274, 223, 234, 287, 256, 269, 215,\n",
       "       284, 241, 245, 292, 226, 299, 243, 259, 224, 204, 262, 289, 249,\n",
       "       221, 288, 203, 296, 230, 247, 277, 208, 260, 200, 291, 257, 222,\n",
       "       261, 263, 207, 297, 213, 268, 286, 214, 229, 228, 211, 218, 220,\n",
       "       250, 225, 206, 271, 276, 201, 216, 264, 279, 205, 275, 209, 272,\n",
       "       212, 237])"
      ]
     },
     "execution_count": 28,
     "metadata": {},
     "output_type": "execute_result"
    }
   ],
   "source": [
    "y_train"
   ]
  },
  {
   "cell_type": "code",
   "execution_count": null,
   "id": "d550fe5e",
   "metadata": {},
   "outputs": [],
   "source": []
  }
 ],
 "metadata": {
  "kernelspec": {
   "display_name": "Python 3",
   "language": "python",
   "name": "python3"
  },
  "language_info": {
   "codemirror_mode": {
    "name": "ipython",
    "version": 3
   },
   "file_extension": ".py",
   "mimetype": "text/x-python",
   "name": "python",
   "nbconvert_exporter": "python",
   "pygments_lexer": "ipython3",
   "version": "3.8.8"
  }
 },
 "nbformat": 4,
 "nbformat_minor": 5
}
