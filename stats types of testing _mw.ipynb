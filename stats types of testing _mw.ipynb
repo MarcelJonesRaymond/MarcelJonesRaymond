{
 "cells": [
  {
   "cell_type": "code",
   "execution_count": 4,
   "id": "ae127870",
   "metadata": {},
   "outputs": [],
   "source": [
    "import pandas as pd\n",
    "import  numpy as np\n",
    "from scipy.stats  import ttest_1samp,wilcoxon\n",
    "from statsmodels.stats.power import ttest_power"
   ]
  },
  {
   "cell_type": "code",
   "execution_count": 27,
   "id": "d4f4c8bf",
   "metadata": {},
   "outputs": [
    {
     "data": {
      "text/plain": [
       "(1.0583990041555131, 0.31745236146056705)"
      ]
     },
     "execution_count": 27,
     "metadata": {},
     "output_type": "execute_result"
    }
   ],
   "source": [
    "#  one sample  ttest\n",
    "x=np.random.randint(0,100,size=10)\n",
    "t_test,pval=ttest_1samp(x,50)\n",
    "t_test,pval"
   ]
  },
  {
   "cell_type": "code",
   "execution_count": 24,
   "id": "dba2294a",
   "metadata": {},
   "outputs": [
    {
     "data": {
      "text/plain": [
       "(0.0, 0.001953125)"
      ]
     },
     "execution_count": 24,
     "metadata": {},
     "output_type": "execute_result"
    }
   ],
   "source": [
    "test,pval=wilcoxon(x-100)\n",
    "test,pval"
   ]
  },
  {
   "cell_type": "code",
   "execution_count": 23,
   "id": "b499a7e3",
   "metadata": {},
   "outputs": [
    {
     "data": {
      "text/plain": [
       "51.7"
      ]
     },
     "execution_count": 23,
     "metadata": {},
     "output_type": "execute_result"
    }
   ],
   "source": [
    "x.mean()"
   ]
  },
  {
   "cell_type": "code",
   "execution_count": 25,
   "id": "4eb0747e",
   "metadata": {},
   "outputs": [
    {
     "data": {
      "text/plain": [
       "0.057601971878803615"
      ]
     },
     "execution_count": 25,
     "metadata": {},
     "output_type": "execute_result"
    }
   ],
   "source": [
    "i=(np.mean(x)-50)/(np.std(x))\n",
    "i"
   ]
  },
  {
   "cell_type": "code",
   "execution_count": 26,
   "id": "04c58307",
   "metadata": {},
   "outputs": [
    {
     "data": {
      "text/plain": [
       "0.0530722503111887"
      ]
     },
     "execution_count": 26,
     "metadata": {},
     "output_type": "execute_result"
    }
   ],
   "source": [
    "ttest_power(i,nobs=10,alpha=0.05,alternative=\"two-sided\")"
   ]
  },
  {
   "cell_type": "code",
   "execution_count": 28,
   "id": "32e458e6",
   "metadata": {},
   "outputs": [],
   "source": [
    "#  two independent sample  test ttest"
   ]
  },
  {
   "cell_type": "code",
   "execution_count": 29,
   "id": "666a0fbb",
   "metadata": {},
   "outputs": [],
   "source": [
    "from scipy.stats import ttest_1samp,ttest_ind\n",
    "from statsmodels.stats.power import ttest_power"
   ]
  },
  {
   "cell_type": "code",
   "execution_count": 30,
   "id": "332f8199",
   "metadata": {},
   "outputs": [],
   "source": [
    "x=np.random.randint(0,100,size=10)\n",
    "y=np.random.randint(0,100,size=10)"
   ]
  },
  {
   "cell_type": "code",
   "execution_count": 31,
   "id": "af6da7c1",
   "metadata": {},
   "outputs": [
    {
     "data": {
      "text/plain": [
       "(array([44, 27, 97, 41, 27, 87, 46,  6, 48, 40]),\n",
       " array([69, 44,  4, 86,  4, 94, 30, 86, 86, 89]))"
      ]
     },
     "execution_count": 31,
     "metadata": {},
     "output_type": "execute_result"
    }
   ],
   "source": [
    "x,y"
   ]
  },
  {
   "cell_type": "code",
   "execution_count": 32,
   "id": "9b6e7124",
   "metadata": {},
   "outputs": [
    {
     "data": {
      "text/plain": [
       "(-0.9071494684034068, 0.3763125129678273)"
      ]
     },
     "execution_count": 32,
     "metadata": {},
     "output_type": "execute_result"
    }
   ],
   "source": [
    "ttest,pvals=ttest_ind(x,y)\n",
    "ttest,pvals"
   ]
  },
  {
   "cell_type": "code",
   "execution_count": 33,
   "id": "7871fdcd",
   "metadata": {},
   "outputs": [],
   "source": [
    "energ = np.array([\n",
    "# energy expenditure in mJ and stature (0=obese, 1=lean)\n",
    "[9.21, 0],\n",
    "[7.53, 1],\n",
    "[7.48, 1],\n",
    "[8.08, 1],\n",
    "[8.09, 1],\n",
    "[10.15, 1],\n",
    "[8.40, 1],\n",
    "[10.88, 1],\n",
    "[6.13, 1],\n",
    "[7.90, 1],\n",
    "[11.51, 0],\n",
    "[12.79, 0],\n",
    "[7.05, 1],\n",
    "[11.85, 0],\n",
    "[9.97, 0],\n",
    "[7.48, 1],\n",
    "[8.79, 0],\n",
    "[9.69, 0],\n",
    "[9.68, 0],\n",
    "[7.58, 1],\n",
    "[9.19, 0],\n",
    "[8.11, 1]])"
   ]
  },
  {
   "cell_type": "code",
   "execution_count": 43,
   "id": "c28c5530",
   "metadata": {},
   "outputs": [],
   "source": [
    "# for lean \n",
    "a= energ[:,1]==1\n",
    "x=energ[a][:,0]"
   ]
  },
  {
   "cell_type": "code",
   "execution_count": 45,
   "id": "615bc0b3",
   "metadata": {},
   "outputs": [],
   "source": [
    "# obese\n",
    "a= energ[:,1]==0\n",
    "y=energ[a][:,0]"
   ]
  },
  {
   "cell_type": "code",
   "execution_count": 48,
   "id": "46b6c3d4",
   "metadata": {},
   "outputs": [],
   "source": [
    "ttest,pval=ttest_ind(x,y)"
   ]
  },
  {
   "cell_type": "code",
   "execution_count": 49,
   "id": "507335d1",
   "metadata": {},
   "outputs": [
    {
     "data": {
      "text/plain": [
       "(-3.9455649161549835, 0.0007989982111700593)"
      ]
     },
     "execution_count": 49,
     "metadata": {},
     "output_type": "execute_result"
    }
   ],
   "source": [
    "ttest,pval"
   ]
  },
  {
   "cell_type": "code",
   "execution_count": 50,
   "id": "43dc646d",
   "metadata": {},
   "outputs": [],
   "source": [
    "# paired samples"
   ]
  },
  {
   "cell_type": "code",
   "execution_count": 51,
   "id": "48a211d2",
   "metadata": {},
   "outputs": [],
   "source": [
    "intake = np.array([\n",
    "[5260, 3910],\n",
    "[5470, 4220],\n",
    "[5640, 3885],\n",
    "[6180, 5160],\n",
    "[6390, 5645],\n",
    "[6515, 4680],\n",
    "[6805, 5265],\n",
    "[7515, 5975],\n",
    "[7515, 6790],\n",
    "[8230, 6900],\n",
    "[8770, 7335],\n",
    "])"
   ]
  },
  {
   "cell_type": "code",
   "execution_count": 55,
   "id": "3a00032e",
   "metadata": {},
   "outputs": [],
   "source": [
    "x=intake[:,0]\n",
    "y=intake[:,1]"
   ]
  },
  {
   "cell_type": "code",
   "execution_count": 57,
   "id": "1f96f190",
   "metadata": {},
   "outputs": [
    {
     "data": {
      "text/plain": [
       "(11.941392877647603, 3.059020942934875e-07)"
      ]
     },
     "execution_count": 57,
     "metadata": {},
     "output_type": "execute_result"
    }
   ],
   "source": [
    "test,pval=ttest_1samp(x-y,0)\n",
    "test,pval"
   ]
  },
  {
   "cell_type": "code",
   "execution_count": 58,
   "id": "2892280d",
   "metadata": {},
   "outputs": [],
   "source": [
    "ttest,pval=ttest_ind(x,y)"
   ]
  },
  {
   "cell_type": "code",
   "execution_count": 59,
   "id": "e845b67c",
   "metadata": {},
   "outputs": [
    {
     "data": {
      "text/plain": [
       "(2.6242022946075902, 0.01625219443111871)"
      ]
     },
     "execution_count": 59,
     "metadata": {},
     "output_type": "execute_result"
    }
   ],
   "source": [
    "ttest,pval"
   ]
  },
  {
   "cell_type": "code",
   "execution_count": 60,
   "id": "5b32b36e",
   "metadata": {},
   "outputs": [],
   "source": [
    "i=x-y"
   ]
  },
  {
   "cell_type": "code",
   "execution_count": 63,
   "id": "6ccfaa5e",
   "metadata": {},
   "outputs": [
    {
     "data": {
      "text/plain": [
       "0.916427192751689"
      ]
     },
     "execution_count": 63,
     "metadata": {},
     "output_type": "execute_result"
    }
   ],
   "source": [
    "s=(np.mean(i)-1000)/(np.std(i))\n",
    "s"
   ]
  },
  {
   "cell_type": "code",
   "execution_count": 64,
   "id": "be2c8f4f",
   "metadata": {},
   "outputs": [
    {
     "data": {
      "text/plain": [
       "0.7324501987167191"
      ]
     },
     "execution_count": 64,
     "metadata": {},
     "output_type": "execute_result"
    }
   ],
   "source": [
    "ttest_power(s,nobs=10,alpha=0.05,alternative=\"two-sided\")"
   ]
  },
  {
   "cell_type": "code",
   "execution_count": 65,
   "id": "a8619fef",
   "metadata": {},
   "outputs": [],
   "source": [
    "# test for proportions "
   ]
  },
  {
   "cell_type": "code",
   "execution_count": 66,
   "id": "57ca794a",
   "metadata": {},
   "outputs": [],
   "source": [
    "x=pd.read_csv(\"insurance.csv\")"
   ]
  },
  {
   "cell_type": "code",
   "execution_count": 67,
   "id": "e56141e4",
   "metadata": {},
   "outputs": [
    {
     "data": {
      "text/html": [
       "<div>\n",
       "<style scoped>\n",
       "    .dataframe tbody tr th:only-of-type {\n",
       "        vertical-align: middle;\n",
       "    }\n",
       "\n",
       "    .dataframe tbody tr th {\n",
       "        vertical-align: top;\n",
       "    }\n",
       "\n",
       "    .dataframe thead th {\n",
       "        text-align: right;\n",
       "    }\n",
       "</style>\n",
       "<table border=\"1\" class=\"dataframe\">\n",
       "  <thead>\n",
       "    <tr style=\"text-align: right;\">\n",
       "      <th></th>\n",
       "      <th>age</th>\n",
       "      <th>sex</th>\n",
       "      <th>bmi</th>\n",
       "      <th>children</th>\n",
       "      <th>smoker</th>\n",
       "      <th>region</th>\n",
       "      <th>charges</th>\n",
       "    </tr>\n",
       "  </thead>\n",
       "  <tbody>\n",
       "    <tr>\n",
       "      <th>0</th>\n",
       "      <td>19</td>\n",
       "      <td>female</td>\n",
       "      <td>27.90</td>\n",
       "      <td>0</td>\n",
       "      <td>yes</td>\n",
       "      <td>southwest</td>\n",
       "      <td>16884.9240</td>\n",
       "    </tr>\n",
       "    <tr>\n",
       "      <th>1</th>\n",
       "      <td>18</td>\n",
       "      <td>male</td>\n",
       "      <td>33.77</td>\n",
       "      <td>1</td>\n",
       "      <td>no</td>\n",
       "      <td>southeast</td>\n",
       "      <td>1725.5523</td>\n",
       "    </tr>\n",
       "  </tbody>\n",
       "</table>\n",
       "</div>"
      ],
      "text/plain": [
       "   age     sex    bmi  children smoker     region     charges\n",
       "0   19  female  27.90         0    yes  southwest  16884.9240\n",
       "1   18    male  33.77         1     no  southeast   1725.5523"
      ]
     },
     "execution_count": 67,
     "metadata": {},
     "output_type": "execute_result"
    }
   ],
   "source": [
    "x.head(2)"
   ]
  },
  {
   "cell_type": "markdown",
   "id": "8f6953b5",
   "metadata": {},
   "source": [
    "# Test of proportions\n",
    "'sex' and 'smoker' are two categorical variables\n",
    "We want to see if the proportion of smokers in the female population is significantly less than it is in the male population\n",
    "Ho = The proportions are equal\n",
    "Ha = The two proportions are not equal"
   ]
  },
  {
   "cell_type": "code",
   "execution_count": 73,
   "id": "97c1d7e0",
   "metadata": {},
   "outputs": [],
   "source": [
    "male= x[x[\"sex\"]==\"male\"][\"smoker\"].value_counts()[1]\n",
    "female= x[x[\"sex\"]==\"female\"][\"smoker\"].value_counts()[1]"
   ]
  },
  {
   "cell_type": "code",
   "execution_count": 79,
   "id": "5c08b36c",
   "metadata": {},
   "outputs": [],
   "source": [
    "nm=x[\"sex\"].value_counts()[0]\n",
    "nf=x[\"sex\"].value_counts()[1]"
   ]
  },
  {
   "cell_type": "code",
   "execution_count": 86,
   "id": "cf99fc07",
   "metadata": {},
   "outputs": [],
   "source": [
    "from statsmodels.stats.proportion import proportions_ztest"
   ]
  },
  {
   "cell_type": "code",
   "execution_count": 87,
   "id": "2171e78e",
   "metadata": {},
   "outputs": [],
   "source": [
    "test,pval=proportions_ztest([male,female],[nm,nf])"
   ]
  },
  {
   "cell_type": "code",
   "execution_count": 88,
   "id": "08b7ece0",
   "metadata": {},
   "outputs": [
    {
     "data": {
      "text/plain": [
       "(2.7867402154855503, 0.005324114164320532)"
      ]
     },
     "execution_count": 88,
     "metadata": {},
     "output_type": "execute_result"
    }
   ],
   "source": [
    "test,pval"
   ]
  },
  {
   "cell_type": "code",
   "execution_count": 89,
   "id": "c0eb056e",
   "metadata": {},
   "outputs": [
    {
     "name": "stdout",
     "output_type": "stream",
     "text": [
      "reject the null  hypothesis\n"
     ]
    }
   ],
   "source": [
    "if pval<0.05:\n",
    "    print(\"reject the null  hypothesis\")\n",
    "else:\n",
    "    print('reject the null hypothesis')"
   ]
  },
  {
   "cell_type": "code",
   "execution_count": 90,
   "id": "e85dd4d5",
   "metadata": {},
   "outputs": [],
   "source": [
    "# test of variance "
   ]
  },
  {
   "cell_type": "code",
   "execution_count": 91,
   "id": "c5810a3b",
   "metadata": {},
   "outputs": [],
   "source": [
    "age19=x[ x[\"age\"]==19]"
   ]
  },
  {
   "cell_type": "code",
   "execution_count": 93,
   "id": "62a1b08d",
   "metadata": {},
   "outputs": [
    {
     "data": {
      "text/plain": [
       "male      35\n",
       "female    33\n",
       "Name: sex, dtype: int64"
      ]
     },
     "execution_count": 93,
     "metadata": {},
     "output_type": "execute_result"
    }
   ],
   "source": [
    "age19.sex.value_counts()"
   ]
  },
  {
   "cell_type": "code",
   "execution_count": 98,
   "id": "60f192d1",
   "metadata": {},
   "outputs": [],
   "source": [
    "male=age19[age19[\"sex\"]==\"male\"][\"bmi\"].iloc[:-2]\n",
    "female=age19[age19[\"sex\"]==\"female\"][\"bmi\"]\n"
   ]
  },
  {
   "cell_type": "code",
   "execution_count": 100,
   "id": "76c585d4",
   "metadata": {},
   "outputs": [],
   "source": [
    "v1,v2=np.var(male),np.var(female)"
   ]
  },
  {
   "cell_type": "code",
   "execution_count": 101,
   "id": "15fee0f7",
   "metadata": {},
   "outputs": [
    {
     "data": {
      "text/plain": [
       "(35.05058650137741, 30.765708585858583)"
      ]
     },
     "execution_count": 101,
     "metadata": {},
     "output_type": "execute_result"
    }
   ],
   "source": [
    "v1,v2"
   ]
  },
  {
   "cell_type": "code",
   "execution_count": 110,
   "id": "6233b62d",
   "metadata": {},
   "outputs": [
    {
     "data": {
      "text/plain": [
       "35"
      ]
     },
     "execution_count": 110,
     "metadata": {},
     "output_type": "execute_result"
    }
   ],
   "source": [
    "c=age19.sex.value_counts()[0]\n",
    "c"
   ]
  },
  {
   "cell_type": "code",
   "execution_count": 111,
   "id": "d2991298",
   "metadata": {},
   "outputs": [],
   "source": [
    "df=c-1"
   ]
  },
  {
   "cell_type": "code",
   "execution_count": 112,
   "id": "c80eec4d",
   "metadata": {},
   "outputs": [],
   "source": [
    "chi=(v1*df)/v2"
   ]
  },
  {
   "cell_type": "code",
   "execution_count": 113,
   "id": "c1561aba",
   "metadata": {},
   "outputs": [
    {
     "data": {
      "text/plain": [
       "38.73533215466406"
      ]
     },
     "execution_count": 113,
     "metadata": {},
     "output_type": "execute_result"
    }
   ],
   "source": [
    "chi"
   ]
  },
  {
   "cell_type": "code",
   "execution_count": 114,
   "id": "bd384f0b",
   "metadata": {},
   "outputs": [],
   "source": [
    "# chi_critical chi table df,ci \n",
    "chi_critical = 46.19"
   ]
  },
  {
   "cell_type": "code",
   "execution_count": 116,
   "id": "87b45c3c",
   "metadata": {},
   "outputs": [
    {
     "name": "stdout",
     "output_type": "stream",
     "text": [
      "fail to reject\n"
     ]
    }
   ],
   "source": [
    "if chi<chi_critical:\n",
    "    print(\"fail to reject\")\n",
    "else:\n",
    "    print(\"reject the hypothesis \")"
   ]
  },
  {
   "cell_type": "markdown",
   "id": "79998f76",
   "metadata": {},
   "source": [
    "# ANOVA and Chi Square"
   ]
  },
  {
   "cell_type": "markdown",
   "id": "9e7c5f1e",
   "metadata": {},
   "source": [
    "National Transportation Safety Board (NTSB) examines the safety of compact cars, midsize cars and full-size cars.\n",
    "Using the fake data given below, test whether the mean pressure applied to the driver's head during a crash test is equal for each types of car at 5% level of significance."
   ]
  },
  {
   "cell_type": "code",
   "execution_count": 117,
   "id": "5c373122",
   "metadata": {},
   "outputs": [],
   "source": [
    "compact_car = [643, 655,702]\n",
    "midsize_car = [469, 427, 525]\n",
    "fullsize_car = [484, 456, 402]"
   ]
  },
  {
   "cell_type": "code",
   "execution_count": 120,
   "id": "7b78d950",
   "metadata": {},
   "outputs": [],
   "source": [
    "x=pd.DataFrame({\"Type\":\"compact_cars\",\"pressure\":compact_car})\n",
    "y=pd.DataFrame({\"Type\":\"midsize_car\",\"pressure\":midsize_car})\n",
    "z=pd.DataFrame({\"Type\":\"fullsize_car\",\"pressure\":fullsize_car})"
   ]
  },
  {
   "cell_type": "code",
   "execution_count": 122,
   "id": "54b536e9",
   "metadata": {},
   "outputs": [],
   "source": [
    "data=pd.DataFrame()"
   ]
  },
  {
   "cell_type": "code",
   "execution_count": 123,
   "id": "59b9d3e5",
   "metadata": {},
   "outputs": [],
   "source": [
    "data=data.append(x)\n",
    "data=data.append(y)\n",
    "data=data.append(z)"
   ]
  },
  {
   "cell_type": "code",
   "execution_count": 127,
   "id": "251069fe",
   "metadata": {},
   "outputs": [
    {
     "data": {
      "text/html": [
       "<div>\n",
       "<style scoped>\n",
       "    .dataframe tbody tr th:only-of-type {\n",
       "        vertical-align: middle;\n",
       "    }\n",
       "\n",
       "    .dataframe tbody tr th {\n",
       "        vertical-align: top;\n",
       "    }\n",
       "\n",
       "    .dataframe thead th {\n",
       "        text-align: right;\n",
       "    }\n",
       "</style>\n",
       "<table border=\"1\" class=\"dataframe\">\n",
       "  <thead>\n",
       "    <tr style=\"text-align: right;\">\n",
       "      <th></th>\n",
       "      <th>Type</th>\n",
       "      <th>pressure</th>\n",
       "    </tr>\n",
       "  </thead>\n",
       "  <tbody>\n",
       "    <tr>\n",
       "      <th>0</th>\n",
       "      <td>compact_cars</td>\n",
       "      <td>643</td>\n",
       "    </tr>\n",
       "    <tr>\n",
       "      <th>1</th>\n",
       "      <td>compact_cars</td>\n",
       "      <td>655</td>\n",
       "    </tr>\n",
       "    <tr>\n",
       "      <th>2</th>\n",
       "      <td>compact_cars</td>\n",
       "      <td>702</td>\n",
       "    </tr>\n",
       "    <tr>\n",
       "      <th>0</th>\n",
       "      <td>midsize_car</td>\n",
       "      <td>469</td>\n",
       "    </tr>\n",
       "    <tr>\n",
       "      <th>1</th>\n",
       "      <td>midsize_car</td>\n",
       "      <td>427</td>\n",
       "    </tr>\n",
       "    <tr>\n",
       "      <th>2</th>\n",
       "      <td>midsize_car</td>\n",
       "      <td>525</td>\n",
       "    </tr>\n",
       "    <tr>\n",
       "      <th>0</th>\n",
       "      <td>fullsize_car</td>\n",
       "      <td>484</td>\n",
       "    </tr>\n",
       "    <tr>\n",
       "      <th>1</th>\n",
       "      <td>fullsize_car</td>\n",
       "      <td>456</td>\n",
       "    </tr>\n",
       "    <tr>\n",
       "      <th>2</th>\n",
       "      <td>fullsize_car</td>\n",
       "      <td>402</td>\n",
       "    </tr>\n",
       "  </tbody>\n",
       "</table>\n",
       "</div>"
      ],
      "text/plain": [
       "           Type  pressure\n",
       "0  compact_cars       643\n",
       "1  compact_cars       655\n",
       "2  compact_cars       702\n",
       "0   midsize_car       469\n",
       "1   midsize_car       427\n",
       "2   midsize_car       525\n",
       "0  fullsize_car       484\n",
       "1  fullsize_car       456\n",
       "2  fullsize_car       402"
      ]
     },
     "execution_count": 127,
     "metadata": {},
     "output_type": "execute_result"
    }
   ],
   "source": [
    "data"
   ]
  },
  {
   "cell_type": "code",
   "execution_count": 130,
   "id": "e6226ee5",
   "metadata": {},
   "outputs": [
    {
     "data": {
      "text/plain": [
       "<AxesSubplot:xlabel='Type', ylabel='pressure'>"
      ]
     },
     "execution_count": 130,
     "metadata": {},
     "output_type": "execute_result"
    },
    {
     "data": {
      "image/png": "[encoded data removed]",
      "text/plain": [
       "<Figure size 432x288 with 1 Axes>"
      ]
     },
     "metadata": {
      "needs_background": "light"
     },
     "output_type": "display_data"
    }
   ],
   "source": [
    "import seaborn as sns\n",
    "sns.boxplot(x=\"Type\",y=\"pressure\",data=data)"
   ]
  },
  {
   "cell_type": "code",
   "execution_count": 131,
   "id": "16b446fe",
   "metadata": {},
   "outputs": [],
   "source": [
    "import statsmodels.api as sm\n",
    "from statsmodels.formula.api import ols"
   ]
  },
  {
   "cell_type": "code",
   "execution_count": 134,
   "id": "ea3bd3b3",
   "metadata": {},
   "outputs": [
    {
     "data": {
      "text/html": [
       "<div>\n",
       "<style scoped>\n",
       "    .dataframe tbody tr th:only-of-type {\n",
       "        vertical-align: middle;\n",
       "    }\n",
       "\n",
       "    .dataframe tbody tr th {\n",
       "        vertical-align: top;\n",
       "    }\n",
       "\n",
       "    .dataframe thead th {\n",
       "        text-align: right;\n",
       "    }\n",
       "</style>\n",
       "<table border=\"1\" class=\"dataframe\">\n",
       "  <thead>\n",
       "    <tr style=\"text-align: right;\">\n",
       "      <th></th>\n",
       "      <th>df</th>\n",
       "      <th>sum_sq</th>\n",
       "      <th>mean_sq</th>\n",
       "      <th>F</th>\n",
       "      <th>PR(&gt;F)</th>\n",
       "    </tr>\n",
       "  </thead>\n",
       "  <tbody>\n",
       "    <tr>\n",
       "      <th>Type</th>\n",
       "      <td>2.0</td>\n",
       "      <td>86049.555556</td>\n",
       "      <td>43024.777778</td>\n",
       "      <td>25.175411</td>\n",
       "      <td>0.001207</td>\n",
       "    </tr>\n",
       "    <tr>\n",
       "      <th>Residual</th>\n",
       "      <td>6.0</td>\n",
       "      <td>10254.000000</td>\n",
       "      <td>1709.000000</td>\n",
       "      <td>NaN</td>\n",
       "      <td>NaN</td>\n",
       "    </tr>\n",
       "  </tbody>\n",
       "</table>\n",
       "</div>"
      ],
      "text/plain": [
       "           df        sum_sq       mean_sq          F    PR(>F)\n",
       "Type      2.0  86049.555556  43024.777778  25.175411  0.001207\n",
       "Residual  6.0  10254.000000   1709.000000        NaN       NaN"
      ]
     },
     "execution_count": 134,
     "metadata": {},
     "output_type": "execute_result"
    }
   ],
   "source": [
    "model=ols(\"pressure~Type\",data=data).fit()\n",
    "table=sm.stats.anova_lm(model,type=2)\n",
    "table"
   ]
  },
  {
   "cell_type": "code",
   "execution_count": 135,
   "id": "2f00b803",
   "metadata": {},
   "outputs": [],
   "source": [
    "from statsmodels.stats.multicomp import pairwise_tukeyhsd"
   ]
  },
  {
   "cell_type": "code",
   "execution_count": 137,
   "id": "f7567dee",
   "metadata": {},
   "outputs": [
    {
     "name": "stdout",
     "output_type": "stream",
     "text": [
      "         Multiple Comparison of Means - Tukey HSD, FWER=0.05         \n",
      "=====================================================================\n",
      "   group1       group2     meandiff p-adj    lower     upper   reject\n",
      "---------------------------------------------------------------------\n",
      "compact_cars fullsize_car -219.3333 0.0015 -322.7791 -115.8876   True\n",
      "compact_cars  midsize_car    -193.0  0.003 -296.4458  -89.5542   True\n",
      "fullsize_car  midsize_car   26.3333 0.7172  -77.1124  129.7791  False\n",
      "---------------------------------------------------------------------\n"
     ]
    }
   ],
   "source": [
    "print(pairwise_tukeyhsd(data[\"pressure\"],data[\"Type\"]))"
   ]
  },
  {
   "cell_type": "code",
   "execution_count": 138,
   "id": "008e3e4d",
   "metadata": {},
   "outputs": [],
   "source": [
    "table1  = [['Day','Store-A','Store-B','Store-C','Store-D','Store-E'], [1,79, 81, 74, 77, 66],\n",
    "           [2, 78, 86, 89, 97, 86], [3, 81, 87, 84, 94, 82], [4, 80, 83, 81, 88, 83], [5, 70, 74, 77, 89, 68]]\n"
   ]
  },
  {
   "cell_type": "code",
   "execution_count": 140,
   "id": "7cc38dc3",
   "metadata": {},
   "outputs": [],
   "source": [
    "header=table1.pop(0)"
   ]
  },
  {
   "cell_type": "code",
   "execution_count": 142,
   "id": "47215ed0",
   "metadata": {},
   "outputs": [
    {
     "data": {
      "text/plain": [
       "['Day', 'Store-A', 'Store-B', 'Store-C', 'Store-D', 'Store-E']"
      ]
     },
     "execution_count": 142,
     "metadata": {},
     "output_type": "execute_result"
    }
   ],
   "source": [
    "header"
   ]
  },
  {
   "cell_type": "code",
   "execution_count": 149,
   "id": "edd79973",
   "metadata": {},
   "outputs": [
    {
     "data": {
      "text/html": [
       "<div>\n",
       "<style scoped>\n",
       "    .dataframe tbody tr th:only-of-type {\n",
       "        vertical-align: middle;\n",
       "    }\n",
       "\n",
       "    .dataframe tbody tr th {\n",
       "        vertical-align: top;\n",
       "    }\n",
       "\n",
       "    .dataframe thead th {\n",
       "        text-align: right;\n",
       "    }\n",
       "</style>\n",
       "<table border=\"1\" class=\"dataframe\">\n",
       "  <thead>\n",
       "    <tr style=\"text-align: right;\">\n",
       "      <th></th>\n",
       "      <th>Day</th>\n",
       "      <th>Store-A</th>\n",
       "      <th>Store-B</th>\n",
       "      <th>Store-C</th>\n",
       "      <th>Store-D</th>\n",
       "      <th>Store-E</th>\n",
       "    </tr>\n",
       "  </thead>\n",
       "  <tbody>\n",
       "    <tr>\n",
       "      <th>0</th>\n",
       "      <td>1</td>\n",
       "      <td>79</td>\n",
       "      <td>81</td>\n",
       "      <td>74</td>\n",
       "      <td>77</td>\n",
       "      <td>66</td>\n",
       "    </tr>\n",
       "    <tr>\n",
       "      <th>1</th>\n",
       "      <td>2</td>\n",
       "      <td>78</td>\n",
       "      <td>86</td>\n",
       "      <td>89</td>\n",
       "      <td>97</td>\n",
       "      <td>86</td>\n",
       "    </tr>\n",
       "    <tr>\n",
       "      <th>2</th>\n",
       "      <td>3</td>\n",
       "      <td>81</td>\n",
       "      <td>87</td>\n",
       "      <td>84</td>\n",
       "      <td>94</td>\n",
       "      <td>82</td>\n",
       "    </tr>\n",
       "    <tr>\n",
       "      <th>3</th>\n",
       "      <td>4</td>\n",
       "      <td>80</td>\n",
       "      <td>83</td>\n",
       "      <td>81</td>\n",
       "      <td>88</td>\n",
       "      <td>83</td>\n",
       "    </tr>\n",
       "    <tr>\n",
       "      <th>4</th>\n",
       "      <td>5</td>\n",
       "      <td>70</td>\n",
       "      <td>74</td>\n",
       "      <td>77</td>\n",
       "      <td>89</td>\n",
       "      <td>68</td>\n",
       "    </tr>\n",
       "  </tbody>\n",
       "</table>\n",
       "</div>"
      ],
      "text/plain": [
       "   Day  Store-A  Store-B  Store-C  Store-D  Store-E\n",
       "0    1       79       81       74       77       66\n",
       "1    2       78       86       89       97       86\n",
       "2    3       81       87       84       94       82\n",
       "3    4       80       83       81       88       83\n",
       "4    5       70       74       77       89       68"
      ]
     },
     "execution_count": 149,
     "metadata": {},
     "output_type": "execute_result"
    }
   ],
   "source": [
    "x=pd.DataFrame(table1, columns=header)\n",
    "x"
   ]
  },
  {
   "cell_type": "code",
   "execution_count": 147,
   "id": "d95eb483",
   "metadata": {},
   "outputs": [],
   "source": [
    "days=x[\"Day\"].values\n",
    "A=x[\"Store-A\"].values\n",
    "B=x[\"Store-B\"].values\n",
    "C=x[\"Store-C\"].values\n",
    "D=x[\"Store-D\"].values\n",
    "E=x[\"Store-E\"].values"
   ]
  },
  {
   "cell_type": "code",
   "execution_count": 154,
   "id": "5216b632",
   "metadata": {},
   "outputs": [],
   "source": [
    "df1=pd.DataFrame({\"Day\":days,\"Store\":\"A\",\"Qos\":A})\n",
    "df2=pd.DataFrame({\"Day\":days,\"Store\":\"B\",\"Qos\":B})\n",
    "df3=pd.DataFrame({\"Day\":days,\"Store\":\"C\",\"Qos\":C})\n",
    "df4=pd.DataFrame({\"Day\":days,\"Store\":\"D\",\"Qos\":D})\n",
    "df5=pd.DataFrame({\"Day\":days,\"Store\":\"E\",\"Qos\":E})"
   ]
  },
  {
   "cell_type": "code",
   "execution_count": 157,
   "id": "9c40df41",
   "metadata": {},
   "outputs": [],
   "source": [
    "df=pd.DataFrame()"
   ]
  },
  {
   "cell_type": "code",
   "execution_count": 158,
   "id": "2eb38263",
   "metadata": {},
   "outputs": [],
   "source": [
    "df=df.append(df1)\n",
    "df=df.append(df2)\n",
    "df=df.append(df3)\n",
    "df=df.append(df4)\n",
    "df=df.append(df5)\n"
   ]
  },
  {
   "cell_type": "code",
   "execution_count": 159,
   "id": "150ac44d",
   "metadata": {},
   "outputs": [
    {
     "data": {
      "text/html": [
       "<div>\n",
       "<style scoped>\n",
       "    .dataframe tbody tr th:only-of-type {\n",
       "        vertical-align: middle;\n",
       "    }\n",
       "\n",
       "    .dataframe tbody tr th {\n",
       "        vertical-align: top;\n",
       "    }\n",
       "\n",
       "    .dataframe thead th {\n",
       "        text-align: right;\n",
       "    }\n",
       "</style>\n",
       "<table border=\"1\" class=\"dataframe\">\n",
       "  <thead>\n",
       "    <tr style=\"text-align: right;\">\n",
       "      <th></th>\n",
       "      <th>Day</th>\n",
       "      <th>Store</th>\n",
       "      <th>Qos</th>\n",
       "    </tr>\n",
       "  </thead>\n",
       "  <tbody>\n",
       "    <tr>\n",
       "      <th>0</th>\n",
       "      <td>1</td>\n",
       "      <td>A</td>\n",
       "      <td>79</td>\n",
       "    </tr>\n",
       "    <tr>\n",
       "      <th>1</th>\n",
       "      <td>2</td>\n",
       "      <td>A</td>\n",
       "      <td>78</td>\n",
       "    </tr>\n",
       "    <tr>\n",
       "      <th>2</th>\n",
       "      <td>3</td>\n",
       "      <td>A</td>\n",
       "      <td>81</td>\n",
       "    </tr>\n",
       "    <tr>\n",
       "      <th>3</th>\n",
       "      <td>4</td>\n",
       "      <td>A</td>\n",
       "      <td>80</td>\n",
       "    </tr>\n",
       "    <tr>\n",
       "      <th>4</th>\n",
       "      <td>5</td>\n",
       "      <td>A</td>\n",
       "      <td>70</td>\n",
       "    </tr>\n",
       "    <tr>\n",
       "      <th>0</th>\n",
       "      <td>1</td>\n",
       "      <td>B</td>\n",
       "      <td>81</td>\n",
       "    </tr>\n",
       "    <tr>\n",
       "      <th>1</th>\n",
       "      <td>2</td>\n",
       "      <td>B</td>\n",
       "      <td>86</td>\n",
       "    </tr>\n",
       "    <tr>\n",
       "      <th>2</th>\n",
       "      <td>3</td>\n",
       "      <td>B</td>\n",
       "      <td>87</td>\n",
       "    </tr>\n",
       "    <tr>\n",
       "      <th>3</th>\n",
       "      <td>4</td>\n",
       "      <td>B</td>\n",
       "      <td>83</td>\n",
       "    </tr>\n",
       "    <tr>\n",
       "      <th>4</th>\n",
       "      <td>5</td>\n",
       "      <td>B</td>\n",
       "      <td>74</td>\n",
       "    </tr>\n",
       "    <tr>\n",
       "      <th>0</th>\n",
       "      <td>1</td>\n",
       "      <td>C</td>\n",
       "      <td>74</td>\n",
       "    </tr>\n",
       "    <tr>\n",
       "      <th>1</th>\n",
       "      <td>2</td>\n",
       "      <td>C</td>\n",
       "      <td>89</td>\n",
       "    </tr>\n",
       "    <tr>\n",
       "      <th>2</th>\n",
       "      <td>3</td>\n",
       "      <td>C</td>\n",
       "      <td>84</td>\n",
       "    </tr>\n",
       "    <tr>\n",
       "      <th>3</th>\n",
       "      <td>4</td>\n",
       "      <td>C</td>\n",
       "      <td>81</td>\n",
       "    </tr>\n",
       "    <tr>\n",
       "      <th>4</th>\n",
       "      <td>5</td>\n",
       "      <td>C</td>\n",
       "      <td>77</td>\n",
       "    </tr>\n",
       "    <tr>\n",
       "      <th>0</th>\n",
       "      <td>1</td>\n",
       "      <td>D</td>\n",
       "      <td>77</td>\n",
       "    </tr>\n",
       "    <tr>\n",
       "      <th>1</th>\n",
       "      <td>2</td>\n",
       "      <td>D</td>\n",
       "      <td>97</td>\n",
       "    </tr>\n",
       "    <tr>\n",
       "      <th>2</th>\n",
       "      <td>3</td>\n",
       "      <td>D</td>\n",
       "      <td>94</td>\n",
       "    </tr>\n",
       "    <tr>\n",
       "      <th>3</th>\n",
       "      <td>4</td>\n",
       "      <td>D</td>\n",
       "      <td>88</td>\n",
       "    </tr>\n",
       "    <tr>\n",
       "      <th>4</th>\n",
       "      <td>5</td>\n",
       "      <td>D</td>\n",
       "      <td>89</td>\n",
       "    </tr>\n",
       "    <tr>\n",
       "      <th>0</th>\n",
       "      <td>1</td>\n",
       "      <td>E</td>\n",
       "      <td>66</td>\n",
       "    </tr>\n",
       "    <tr>\n",
       "      <th>1</th>\n",
       "      <td>2</td>\n",
       "      <td>E</td>\n",
       "      <td>86</td>\n",
       "    </tr>\n",
       "    <tr>\n",
       "      <th>2</th>\n",
       "      <td>3</td>\n",
       "      <td>E</td>\n",
       "      <td>82</td>\n",
       "    </tr>\n",
       "    <tr>\n",
       "      <th>3</th>\n",
       "      <td>4</td>\n",
       "      <td>E</td>\n",
       "      <td>83</td>\n",
       "    </tr>\n",
       "    <tr>\n",
       "      <th>4</th>\n",
       "      <td>5</td>\n",
       "      <td>E</td>\n",
       "      <td>68</td>\n",
       "    </tr>\n",
       "  </tbody>\n",
       "</table>\n",
       "</div>"
      ],
      "text/plain": [
       "   Day Store  Qos\n",
       "0    1     A   79\n",
       "1    2     A   78\n",
       "2    3     A   81\n",
       "3    4     A   80\n",
       "4    5     A   70\n",
       "0    1     B   81\n",
       "1    2     B   86\n",
       "2    3     B   87\n",
       "3    4     B   83\n",
       "4    5     B   74\n",
       "0    1     C   74\n",
       "1    2     C   89\n",
       "2    3     C   84\n",
       "3    4     C   81\n",
       "4    5     C   77\n",
       "0    1     D   77\n",
       "1    2     D   97\n",
       "2    3     D   94\n",
       "3    4     D   88\n",
       "4    5     D   89\n",
       "0    1     E   66\n",
       "1    2     E   86\n",
       "2    3     E   82\n",
       "3    4     E   83\n",
       "4    5     E   68"
      ]
     },
     "execution_count": 159,
     "metadata": {},
     "output_type": "execute_result"
    }
   ],
   "source": [
    "df"
   ]
  },
  {
   "cell_type": "code",
   "execution_count": 160,
   "id": "7ce2ffc8",
   "metadata": {},
   "outputs": [
    {
     "data": {
      "text/plain": [
       "<AxesSubplot:xlabel='Store', ylabel='Qos'>"
      ]
     },
     "execution_count": 160,
     "metadata": {},
     "output_type": "execute_result"
    },
    {
     "data": {
      "image/png": "[encoded data removed]",
      "text/plain": [
       "<Figure size 432x288 with 1 Axes>"
      ]
     },
     "metadata": {
      "needs_background": "light"
     },
     "output_type": "display_data"
    }
   ],
   "source": [
    "sns.boxplot(x=\"Store\",y=\"Qos\",data=df)"
   ]
  },
  {
   "cell_type": "code",
   "execution_count": 162,
   "id": "68631060",
   "metadata": {},
   "outputs": [],
   "source": [
    "import statsmodels.api  as sm\n",
    "from statsmodels.formula.api import ols"
   ]
  },
  {
   "cell_type": "code",
   "execution_count": 166,
   "id": "ace75008",
   "metadata": {},
   "outputs": [],
   "source": [
    "formula=\"Qos~(Day)+(Store)\"\n",
    "model=ols(formula,df).fit()\n",
    "anova=sm.stats.anova_lm(model,type=2)"
   ]
  },
  {
   "cell_type": "code",
   "execution_count": 167,
   "id": "bd14b0ea",
   "metadata": {},
   "outputs": [
    {
     "data": {
      "text/html": [
       "<div>\n",
       "<style scoped>\n",
       "    .dataframe tbody tr th:only-of-type {\n",
       "        vertical-align: middle;\n",
       "    }\n",
       "\n",
       "    .dataframe tbody tr th {\n",
       "        vertical-align: top;\n",
       "    }\n",
       "\n",
       "    .dataframe thead th {\n",
       "        text-align: right;\n",
       "    }\n",
       "</style>\n",
       "<table border=\"1\" class=\"dataframe\">\n",
       "  <thead>\n",
       "    <tr style=\"text-align: right;\">\n",
       "      <th></th>\n",
       "      <th>df</th>\n",
       "      <th>sum_sq</th>\n",
       "      <th>mean_sq</th>\n",
       "      <th>F</th>\n",
       "      <th>PR(&gt;F)</th>\n",
       "    </tr>\n",
       "  </thead>\n",
       "  <tbody>\n",
       "    <tr>\n",
       "      <th>Store</th>\n",
       "      <td>4.0</td>\n",
       "      <td>461.76</td>\n",
       "      <td>115.440000</td>\n",
       "      <td>2.456775</td>\n",
       "      <td>0.080773</td>\n",
       "    </tr>\n",
       "    <tr>\n",
       "      <th>Day</th>\n",
       "      <td>1.0</td>\n",
       "      <td>7.22</td>\n",
       "      <td>7.220000</td>\n",
       "      <td>0.153655</td>\n",
       "      <td>0.699429</td>\n",
       "    </tr>\n",
       "    <tr>\n",
       "      <th>Residual</th>\n",
       "      <td>19.0</td>\n",
       "      <td>892.78</td>\n",
       "      <td>46.988421</td>\n",
       "      <td>NaN</td>\n",
       "      <td>NaN</td>\n",
       "    </tr>\n",
       "  </tbody>\n",
       "</table>\n",
       "</div>"
      ],
      "text/plain": [
       "            df  sum_sq     mean_sq         F    PR(>F)\n",
       "Store      4.0  461.76  115.440000  2.456775  0.080773\n",
       "Day        1.0    7.22    7.220000  0.153655  0.699429\n",
       "Residual  19.0  892.78   46.988421       NaN       NaN"
      ]
     },
     "execution_count": 167,
     "metadata": {},
     "output_type": "execute_result"
    }
   ],
   "source": [
    "anova"
   ]
  },
  {
   "cell_type": "markdown",
   "id": "130c1b43",
   "metadata": {},
   "source": [
    "# Chi Square\n",
    "A chi-square distribution with k degrees of freedom is given by sum of squares of standard normal random variables 𝑍1, 𝑍2, ... 𝑍𝑘 obtained by transforming normal standard variables 𝑋1, 𝑋2, ... 𝑋𝑘 with mean values 𝜇1, 𝜇2, ... 𝜇𝑘 and corresponding standard deviation 𝜎1, 𝜎2, ... 𝜎𝑘\n",
    "𝜒𝑘2 = 𝑍12 + 𝑍22 + … + 𝑍𝑘2\n",
    "\n",
    "The probability density function of f(x) =\n",
    "\n",
    "𝑥𝑘2−1𝑒−𝑥22𝑘2Γ(𝑘2) if x > 0 else 0\n",
    "\n",
    "where Γ(k/2) is a gamma function given by\n",
    "\n",
    "Γ𝑘2 = ∫0∞𝑥𝑘−1𝑒−𝑥𝑑𝑥\n",
    "Properties of Chi Square distribution\n",
    "1. The mean and standard deviation of a chi-square distribution are k and √2k respectively, where k is the degrees of freedom.\n",
    "2. As the degrees of freedom increases, the probability density function of a chi-square distribution approaches normal distribution.\n",
    "3. Chi-square goodness of fit is one of the popular tests for checking whether a data follows a specific probability distribution.\n",
    "4. Chi square test is a right tailed test.\n",
    "Chi-square Goodness of fit tests\n",
    "Goodness of fit tests are hypothesis tests that are used for comparing the observed distribution pf data with expected distribution of the data to decide whether there is any statistically significant difference between the observed distribution and a theoretical distribution (for example, normal, exponential, etc.) based on the comparison of observed frequencies in the data and the expected frequencies if the data follows a specified theoretical distribution.\n",
    "\n",
    "Hypothesis\tDescription\n",
    "Null hypothesis\tThere is no statistically significant difference between the observed frequencies and the expected frequencies from a hypothesized distribution\n",
    "Alternative hypothesis\tThere is statistically significant difference between the observed frequencies and the expected frequencies from a hypothesized distribution\n",
    "Chi-square Goodness of fit tests\n",
    "Chi-square statistic for goodness of fit is given by\n",
    "\n",
    "𝜒2 = ∑𝑛𝑖=1∑𝑚𝑗=1(𝑂𝑖𝑗−𝐸𝑖𝑗)2𝐸𝑖𝑗\n",
    "This test is invalid when the observed or expected frequencies in each category are too small. A typical rule is that all of the observed and expected frequencies should be at least 5.\n",
    "\n",
    "Example 5\n",
    "A1 airlines operated daily flights to several Indian cities. The operations manager believes that 30% of their passengers prefer vegan food, 45% prefer vegetarian food , 20% prefer non-veg food 5% request for Jain food.\n",
    "\n",
    "A sample of 500 passengers was chosen to analyse the food preferences and the data is shown in the following table:\n",
    "\n",
    "Food type\tVegan\tVegetarian\tNon-Vegetarian\tJain\n",
    "Number of passengers\t\t190\t185\t90\t35\n",
    "At 5% level of significance, can you confirm that the meal preference is as per the belief of the operations manager?\n",
    "\n",
    "Step 1: State the null and alternative hypothesis:\n",
    "Null hypothesis: 𝐻0: Meal preference is as per the perceived ratios of the operations manager\n",
    "\n",
    "Alternative hypothesis: 𝐻𝐴: Meal preference is different from the perceived ratios of the operations manager"
   ]
  },
  {
   "cell_type": "code",
   "execution_count": 170,
   "id": "c9fbeda0",
   "metadata": {},
   "outputs": [],
   "source": [
    "import scipy.stats as stats\n",
    "import scipy"
   ]
  },
  {
   "cell_type": "code",
   "execution_count": 176,
   "id": "537ae5a2",
   "metadata": {},
   "outputs": [
    {
     "name": "stderr",
     "output_type": "stream",
     "text": [
      "<ipython-input-176-e8c16daca8d9>:1: DeprecationWarning: scipy.array is deprecated and will be removed in SciPy 2.0.0, use numpy.array instead\n",
      "  observed=scipy.array(np.random.randint(0,100,size=3))\n"
     ]
    }
   ],
   "source": [
    "observed=scipy.array(np.random.randint(0,100,size=3))"
   ]
  },
  {
   "cell_type": "code",
   "execution_count": 180,
   "id": "78d4959e",
   "metadata": {},
   "outputs": [
    {
     "data": {
      "text/plain": [
       "array([44, 37, 62])"
      ]
     },
     "execution_count": 180,
     "metadata": {},
     "output_type": "execute_result"
    }
   ],
   "source": [
    "observed"
   ]
  },
  {
   "cell_type": "code",
   "execution_count": 181,
   "id": "68f252d4",
   "metadata": {},
   "outputs": [],
   "source": [
    "n=observed.sum()"
   ]
  },
  {
   "cell_type": "code",
   "execution_count": 184,
   "id": "f6ab8235",
   "metadata": {},
   "outputs": [
    {
     "name": "stderr",
     "output_type": "stream",
     "text": [
      "<ipython-input-184-0ab44ff623d5>:1: DeprecationWarning: scipy.array is deprecated and will be removed in SciPy 2.0.0, use numpy.array instead\n",
      "  expected=scipy.array ([n*0.30,n*0.50,n*0.05])\n"
     ]
    }
   ],
   "source": [
    "expected=scipy.array ([n*0.30,n*0.50,n*0.05])"
   ]
  },
  {
   "cell_type": "code",
   "execution_count": 186,
   "id": "36871723",
   "metadata": {},
   "outputs": [],
   "source": [
    "chi,pval=stats.chisquare(observed,expected)"
   ]
  },
  {
   "cell_type": "code",
   "execution_count": 187,
   "id": "a0348c8f",
   "metadata": {},
   "outputs": [
    {
     "data": {
      "text/plain": [
       "(437.4474358974359, 1.0221066961705469e-95)"
      ]
     },
     "execution_count": 187,
     "metadata": {},
     "output_type": "execute_result"
    }
   ],
   "source": [
    "chi,pval"
   ]
  },
  {
   "cell_type": "markdown",
   "id": "b864ae02",
   "metadata": {},
   "source": [
    "# Chi-square tests of independence"
   ]
  },
  {
   "cell_type": "markdown",
   "id": "cb9e92be",
   "metadata": {},
   "source": [
    "Chi-square test of independence is a hypothesis test in which we test whether two or more groups are statistically independent or not."
   ]
  },
  {
   "cell_type": "code",
   "execution_count": 194,
   "id": "db6b708f",
   "metadata": {},
   "outputs": [
    {
     "ename": "ValueError",
     "evalue": "too many values to unpack (expected 3)",
     "output_type": "error",
     "traceback": [
      "\u001b[1;31m---------------------------------------------------------------------------\u001b[0m",
      "\u001b[1;31mValueError\u001b[0m                                Traceback (most recent call last)",
      "\u001b[1;32m<ipython-input-194-c5f9b57a5cf4>\u001b[0m in \u001b[0;36m<module>\u001b[1;34m\u001b[0m\n\u001b[0;32m      4\u001b[0m \u001b[1;33m\u001b[0m\u001b[0m\n\u001b[0;32m      5\u001b[0m \u001b[1;33m\u001b[0m\u001b[0m\n\u001b[1;32m----> 6\u001b[1;33m \u001b[0mchi_sq_Stat\u001b[0m\u001b[1;33m,\u001b[0m \u001b[0mp_value\u001b[0m\u001b[1;33m,\u001b[0m \u001b[0mdeg_freedom\u001b[0m\u001b[1;33m=\u001b[0m\u001b[0mstats\u001b[0m\u001b[1;33m.\u001b[0m\u001b[0mchi2_contingency\u001b[0m\u001b[1;33m(\u001b[0m\u001b[0mx\u001b[0m\u001b[1;33m)\u001b[0m\u001b[1;33m\u001b[0m\u001b[1;33m\u001b[0m\u001b[0m\n\u001b[0m\u001b[0;32m      7\u001b[0m \u001b[1;33m\u001b[0m\u001b[0m\n\u001b[0;32m      8\u001b[0m \u001b[0mprint\u001b[0m\u001b[1;33m(\u001b[0m\u001b[0mchi_sq_Stat\u001b[0m\u001b[1;33m,\u001b[0m \u001b[0mp_value\u001b[0m\u001b[1;33m,\u001b[0m \u001b[0mdeg_freedom\u001b[0m\u001b[1;33m)\u001b[0m\u001b[1;33m\u001b[0m\u001b[1;33m\u001b[0m\u001b[0m\n",
      "\u001b[1;31mValueError\u001b[0m: too many values to unpack (expected 3)"
     ]
    }
   ],
   "source": [
    "import scipy.stats as stats\n",
    "\n",
    "x= np.array([[138, 83, 64],[64, 67, 84]])\n",
    "\n",
    "\n",
    "chi_sq_Stat, p_value, deg_freedom=stats.chi2_contingency(x)\n",
    "\n",
    "print(chi_sq_Stat, p_value, deg_freedom)"
   ]
  },
  {
   "cell_type": "code",
   "execution_count": null,
   "id": "619f0cde",
   "metadata": {},
   "outputs": [],
   "source": []
  }
 ],
 "metadata": {
  "kernelspec": {
   "display_name": "Python 3",
   "language": "python",
   "name": "python3"
  },
  "language_info": {
   "codemirror_mode": {
    "name": "ipython",
    "version": 3
   },
   "file_extension": ".py",
   "mimetype": "text/x-python",
   "name": "python",
   "nbconvert_exporter": "python",
   "pygments_lexer": "ipython3",
   "version": "3.8.8"
  }
 },
 "nbformat": 4,
 "nbformat_minor": 5
}
