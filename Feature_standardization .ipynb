{
 "cells": [
  {
   "cell_type": "code",
   "execution_count": 2,
   "id": "d26b5003",
   "metadata": {},
   "outputs": [],
   "source": [
    "import pandas as pd\n",
    "import numpy as np\n",
    "import matplotlib.pyplot as plt\n",
    "from sklearn.linear_model import LinearRegression\n",
    "from sklearn.preprocessing import StandardScaler"
   ]
  },
  {
   "cell_type": "code",
   "execution_count": 65,
   "id": "e6a79765",
   "metadata": {},
   "outputs": [],
   "source": [
    "x=pd.read_csv(\"1.02.+Multiple+linear+regression.csv\")"
   ]
  },
  {
   "cell_type": "code",
   "execution_count": 66,
   "id": "a865f9f1",
   "metadata": {},
   "outputs": [],
   "source": [
    "y=x[[\"SAT\"]]\n",
    "x=x.drop([\"SAT\"],axis=1)"
   ]
  },
  {
   "cell_type": "code",
   "execution_count": 67,
   "id": "96143625",
   "metadata": {},
   "outputs": [],
   "source": [
    "scaler=StandardScaler()"
   ]
  },
  {
   "cell_type": "code",
   "execution_count": 68,
   "id": "4f95dc00",
   "metadata": {},
   "outputs": [
    {
     "data": {
      "text/plain": [
       "StandardScaler()"
      ]
     },
     "execution_count": 68,
     "metadata": {},
     "output_type": "execute_result"
    }
   ],
   "source": [
    "scaler.fit(x)"
   ]
  },
  {
   "cell_type": "code",
   "execution_count": 69,
   "id": "32970b0f",
   "metadata": {},
   "outputs": [],
   "source": [
    "x_scaled=scaler.transform(x)"
   ]
  },
  {
   "cell_type": "code",
   "execution_count": 70,
   "id": "14af46d6",
   "metadata": {},
   "outputs": [
    {
     "data": {
      "text/plain": [
       "array([[-3.44538388, -1.24637147],\n",
       "       [-3.00093201,  1.10632974],\n",
       "       [-2.92685669,  1.10632974],\n",
       "       [-2.18610357,  1.10632974],\n",
       "       [-1.85276466, -0.07002087],\n",
       "       [-1.55646341, -1.24637147],\n",
       "       [-1.22312451, -0.07002087],\n",
       "       [-1.22312451, -1.24637147],\n",
       "       [-1.18608685, -0.07002087],\n",
       "       [-1.18608685,  1.10632974],\n",
       "       [-1.14904919,  1.10632974],\n",
       "       [-0.96386091, -0.07002087],\n",
       "       [-0.92682326, -1.24637147],\n",
       "       [-0.92682326,  1.10632974],\n",
       "       [-0.77867263, -0.07002087],\n",
       "       [-0.59348435, -0.07002087],\n",
       "       [-0.59348435,  1.10632974],\n",
       "       [-0.59348435, -0.07002087],\n",
       "       [-0.59348435,  1.10632974],\n",
       "       [-0.51940904,  1.10632974],\n",
       "       [-0.51940904,  1.10632974],\n",
       "       [-0.51940904,  1.10632974],\n",
       "       [-0.48237138,  1.10632974],\n",
       "       [-0.44533372, -1.24637147],\n",
       "       [-0.33422076, -1.24637147],\n",
       "       [-0.18607013, -1.24637147],\n",
       "       [-0.18607013, -1.24637147],\n",
       "       [-0.18607013,  1.10632974],\n",
       "       [-0.18607013, -1.24637147],\n",
       "       [-0.18607013, -0.07002087],\n",
       "       [-0.18607013, -1.24637147],\n",
       "       [-0.18607013, -1.24637147],\n",
       "       [-0.14903247, -1.24637147],\n",
       "       [-0.14903247,  1.10632974],\n",
       "       [-0.14903247, -0.07002087],\n",
       "       [-0.07495716, -0.07002087],\n",
       "       [-0.03791951,  1.10632974],\n",
       "       [ 0.03615581,  1.10632974],\n",
       "       [ 0.14726878,  1.10632974],\n",
       "       [ 0.14726878, -0.07002087],\n",
       "       [ 0.14726878,  1.10632974],\n",
       "       [ 0.18430643, -1.24637147],\n",
       "       [ 0.18430643,  1.10632974],\n",
       "       [ 0.22134409, -1.24637147],\n",
       "       [ 0.22134409, -1.24637147],\n",
       "       [ 0.25838174, -0.07002087],\n",
       "       [ 0.25838174, -0.07002087],\n",
       "       [ 0.25838174, -1.24637147],\n",
       "       [ 0.2954194 , -1.24637147],\n",
       "       [ 0.2954194 ,  1.10632974],\n",
       "       [ 0.2954194 ,  1.10632974],\n",
       "       [ 0.33245706, -1.24637147],\n",
       "       [ 0.33245706, -0.07002087],\n",
       "       [ 0.33245706, -0.07002087],\n",
       "       [ 0.40653237, -1.24637147],\n",
       "       [ 0.51764534, -1.24637147],\n",
       "       [ 0.51764534, -0.07002087],\n",
       "       [ 0.51764534, -1.24637147],\n",
       "       [ 0.51764534, -0.07002087],\n",
       "       [ 0.554683  , -0.07002087],\n",
       "       [ 0.59172065, -1.24637147],\n",
       "       [ 0.59172065,  1.10632974],\n",
       "       [ 0.62875831,  1.10632974],\n",
       "       [ 0.66579596,  1.10632974],\n",
       "       [ 0.66579596, -1.24637147],\n",
       "       [ 0.70283362, -0.07002087],\n",
       "       [ 0.70283362,  1.10632974],\n",
       "       [ 0.77690893, -0.07002087],\n",
       "       [ 0.92505956, -0.07002087],\n",
       "       [ 0.92505956,  1.10632974],\n",
       "       [ 0.96209721,  1.10632974],\n",
       "       [ 0.96209721, -1.24637147],\n",
       "       [ 0.99913487, -1.24637147],\n",
       "       [ 0.99913487,  1.10632974],\n",
       "       [ 1.03617253,  1.10632974],\n",
       "       [ 1.07321018,  1.10632974],\n",
       "       [ 1.1472855 , -1.24637147],\n",
       "       [ 1.18432315, -0.07002087],\n",
       "       [ 1.40654909,  1.10632974],\n",
       "       [ 1.40654909,  1.10632974],\n",
       "       [ 1.40654909, -1.24637147],\n",
       "       [ 1.4806244 ,  1.10632974],\n",
       "       [ 1.59173737, -1.24637147],\n",
       "       [ 1.77692565, -0.07002087]])"
      ]
     },
     "execution_count": 70,
     "metadata": {},
     "output_type": "execute_result"
    }
   ],
   "source": [
    "x_scaled"
   ]
  },
  {
   "cell_type": "code",
   "execution_count": 71,
   "id": "39935c4b",
   "metadata": {},
   "outputs": [],
   "source": [
    "lm=LinearRegression()"
   ]
  },
  {
   "cell_type": "code",
   "execution_count": 72,
   "id": "c35e2aee",
   "metadata": {},
   "outputs": [
    {
     "data": {
      "text/plain": [
       "LinearRegression()"
      ]
     },
     "execution_count": 72,
     "metadata": {},
     "output_type": "execute_result"
    }
   ],
   "source": [
    "lm.fit(x_scaled,y)"
   ]
  },
  {
   "cell_type": "code",
   "execution_count": 73,
   "id": "69eefb6d",
   "metadata": {},
   "outputs": [
    {
     "data": {
      "text/plain": [
       "array([[66.19673541, -0.23624296]])"
      ]
     },
     "execution_count": 73,
     "metadata": {},
     "output_type": "execute_result"
    }
   ],
   "source": [
    "lm.coef_"
   ]
  },
  {
   "cell_type": "code",
   "execution_count": 74,
   "id": "9f389cbf",
   "metadata": {},
   "outputs": [
    {
     "data": {
      "text/plain": [
       "array([1845.27380952])"
      ]
     },
     "execution_count": 74,
     "metadata": {},
     "output_type": "execute_result"
    }
   ],
   "source": [
    "lm.intercept_"
   ]
  },
  {
   "cell_type": "code",
   "execution_count": 75,
   "id": "56d97655",
   "metadata": {},
   "outputs": [],
   "source": [
    "summary=pd.DataFrame([[\"Intercept\"],[\"GPA\"],[\"Rand 1,2,3\"]],columns=[\"Features\"])\n",
    "summary[\"Weights\"]=lm.intercept_[0],lm.coef_[0][0],lm.coef_[0][1]"
   ]
  },
  {
   "cell_type": "code",
   "execution_count": 64,
   "id": "3cffe762",
   "metadata": {},
   "outputs": [
    {
     "data": {
      "text/html": [
       "<div>\n",
       "<style scoped>\n",
       "    .dataframe tbody tr th:only-of-type {\n",
       "        vertical-align: middle;\n",
       "    }\n",
       "\n",
       "    .dataframe tbody tr th {\n",
       "        vertical-align: top;\n",
       "    }\n",
       "\n",
       "    .dataframe thead th {\n",
       "        text-align: right;\n",
       "    }\n",
       "</style>\n",
       "<table border=\"1\" class=\"dataframe\">\n",
       "  <thead>\n",
       "    <tr style=\"text-align: right;\">\n",
       "      <th></th>\n",
       "      <th>Features</th>\n",
       "      <th>Weights</th>\n",
       "    </tr>\n",
       "  </thead>\n",
       "  <tbody>\n",
       "    <tr>\n",
       "      <th>0</th>\n",
       "      <td>Intercept</td>\n",
       "      <td>1845.273810</td>\n",
       "    </tr>\n",
       "    <tr>\n",
       "      <th>1</th>\n",
       "      <td>GPA</td>\n",
       "      <td>66.196735</td>\n",
       "    </tr>\n",
       "    <tr>\n",
       "      <th>2</th>\n",
       "      <td>Rand 1,2,3</td>\n",
       "      <td>-0.236243</td>\n",
       "    </tr>\n",
       "  </tbody>\n",
       "</table>\n",
       "</div>"
      ],
      "text/plain": [
       "     Features      Weights\n",
       "0   Intercept  1845.273810\n",
       "1         GPA    66.196735\n",
       "2  Rand 1,2,3    -0.236243"
      ]
     },
     "execution_count": 64,
     "metadata": {},
     "output_type": "execute_result"
    }
   ],
   "source": [
    "summary"
   ]
  },
  {
   "cell_type": "code",
   "execution_count": null,
   "id": "e0338fff",
   "metadata": {},
   "outputs": [],
   "source": []
  }
 ],
 "metadata": {
  "kernelspec": {
   "display_name": "Python 3",
   "language": "python",
   "name": "python3"
  },
  "language_info": {
   "codemirror_mode": {
    "name": "ipython",
    "version": 3
   },
   "file_extension": ".py",
   "mimetype": "text/x-python",
   "name": "python",
   "nbconvert_exporter": "python",
   "pygments_lexer": "ipython3",
   "version": "3.8.8"
  }
 },
 "nbformat": 4,
 "nbformat_minor": 5
}
